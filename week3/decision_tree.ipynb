{
  "nbformat": 4,
  "nbformat_minor": 0,
  "metadata": {
    "colab": {
      "provenance": [],
      "authorship_tag": "ABX9TyOPm16mvBajBXn0WbiSZLc+",
      "include_colab_link": true
    },
    "kernelspec": {
      "name": "python3",
      "display_name": "Python 3"
    },
    "language_info": {
      "name": "python"
    }
  },
  "cells": [
    {
      "cell_type": "markdown",
      "metadata": {
        "id": "view-in-github",
        "colab_type": "text"
      },
      "source": [
        "<a href=\"https://colab.research.google.com/github/nekroz-coder/MachineLearning/blob/main/week3/decision_tree.ipynb\" target=\"_parent\"><img src=\"https://colab.research.google.com/assets/colab-badge.svg\" alt=\"Open In Colab\"/></a>"
      ]
    },
    {
      "cell_type": "code",
      "source": [
        "from sklearn.tree import DecisionTreeClassifier\n",
        "from sklearn.model_selection import train_test_split\n",
        "from sklearn.metrics import accuracy_score\n",
        "from sklearn.tree import export_graphviz\n",
        "import graphviz\n"
      ],
      "metadata": {
        "id": "sfRPQQ8tHrkP"
      },
      "execution_count": 9,
      "outputs": []
    },
    {
      "cell_type": "code",
      "execution_count": 1,
      "metadata": {
        "colab": {
          "base_uri": "https://localhost:8080/"
        },
        "id": "YApr0gBdD0-c",
        "outputId": "bf9d714a-950c-492e-8615-f0055ebf4022"
      },
      "outputs": [
        {
          "output_type": "stream",
          "name": "stdout",
          "text": [
            "   sepal_length  sepal_width  petal_length  petal_width species\n",
            "0           5.1          3.5           1.4          0.2  setosa\n",
            "1           4.9          3.0           1.4          0.2  setosa\n",
            "2           4.7          3.2           1.3          0.2  setosa\n",
            "3           4.6          3.1           1.5          0.2  setosa\n",
            "4           5.0          3.6           1.4          0.2  setosa\n"
          ]
        }
      ],
      "source": [
        "# Impor pustaka yang diperlukan\n",
        "import seaborn as sns\n",
        "\n",
        "# Muat dataset Iris\n",
        "iris = sns.load_dataset('iris')\n",
        "\n",
        "# Tampilkan beberapa baris pertama dari dataset\n",
        "print(iris.head())\n"
      ]
    },
    {
      "cell_type": "code",
      "source": [
        "# Impor pustaka yang diperlukan\n",
        "import seaborn as sns\n",
        "import pandas as pd\n",
        "\n",
        "# Muat dataset Iris dan jadikan DataFrame\n",
        "iris = sns.load_dataset('iris')\n",
        "iris_df = pd.DataFrame(iris)\n",
        "\n",
        "# Tampilkan beberapa baris pertama dari DataFrame\n",
        "print(iris_df.head())\n"
      ],
      "metadata": {
        "colab": {
          "base_uri": "https://localhost:8080/"
        },
        "id": "tHTAPqcTE-d5",
        "outputId": "7dbbaeb2-56f3-49cc-ede4-3f97385a6690"
      },
      "execution_count": 2,
      "outputs": [
        {
          "output_type": "stream",
          "name": "stdout",
          "text": [
            "   sepal_length  sepal_width  petal_length  petal_width species\n",
            "0           5.1          3.5           1.4          0.2  setosa\n",
            "1           4.9          3.0           1.4          0.2  setosa\n",
            "2           4.7          3.2           1.3          0.2  setosa\n",
            "3           4.6          3.1           1.5          0.2  setosa\n",
            "4           5.0          3.6           1.4          0.2  setosa\n"
          ]
        }
      ]
    },
    {
      "cell_type": "code",
      "source": [
        "iris_df.info()"
      ],
      "metadata": {
        "colab": {
          "base_uri": "https://localhost:8080/"
        },
        "id": "4obra6vwFSmn",
        "outputId": "30497ad3-a9ee-40c6-8024-6c1f6739b869"
      },
      "execution_count": 3,
      "outputs": [
        {
          "output_type": "stream",
          "name": "stdout",
          "text": [
            "<class 'pandas.core.frame.DataFrame'>\n",
            "RangeIndex: 150 entries, 0 to 149\n",
            "Data columns (total 5 columns):\n",
            " #   Column        Non-Null Count  Dtype  \n",
            "---  ------        --------------  -----  \n",
            " 0   sepal_length  150 non-null    float64\n",
            " 1   sepal_width   150 non-null    float64\n",
            " 2   petal_length  150 non-null    float64\n",
            " 3   petal_width   150 non-null    float64\n",
            " 4   species       150 non-null    object \n",
            "dtypes: float64(4), object(1)\n",
            "memory usage: 6.0+ KB\n"
          ]
        }
      ]
    },
    {
      "cell_type": "code",
      "source": [
        "# Impor pustaka yang diperlukan\n",
        "import pandas as pd\n",
        "\n",
        "# Menampilkan nilai unik pada kolom 'species'\n",
        "unique_species = iris_df['species'].unique()\n",
        "\n",
        "# Menampilkan nilai unik tersebut\n",
        "print(unique_species)\n"
      ],
      "metadata": {
        "colab": {
          "base_uri": "https://localhost:8080/"
        },
        "id": "n36ZGzFWF_qI",
        "outputId": "b6100646-4f6d-4583-b637-7117b1b26ce2"
      },
      "execution_count": 4,
      "outputs": [
        {
          "output_type": "stream",
          "name": "stdout",
          "text": [
            "['setosa' 'versicolor' 'virginica']\n"
          ]
        }
      ]
    },
    {
      "cell_type": "code",
      "source": [
        "# Impor pustaka yang diperlukan\n",
        "import pandas as pd\n",
        "\n",
        "# Definisikan kolom atribut\n",
        "atribut = iris_df[['sepal_length', 'sepal_width', 'petal_length', 'petal_width']]\n",
        "\n",
        "# Definisikan kolom target\n",
        "target = iris_df['species']\n",
        "\n",
        "# Tampilkan beberapa baris pertama dari kolom atribut dan target\n",
        "print(\"Atribut:\")\n",
        "print(atribut.head())\n",
        "\n",
        "print(\"\\nTarget:\")\n",
        "print(target.head())\n"
      ],
      "metadata": {
        "colab": {
          "base_uri": "https://localhost:8080/"
        },
        "id": "pbO2NQkaGrug",
        "outputId": "2be831e6-157c-4cae-e0aa-f4ebbb1078af"
      },
      "execution_count": 5,
      "outputs": [
        {
          "output_type": "stream",
          "name": "stdout",
          "text": [
            "Atribut:\n",
            "   sepal_length  sepal_width  petal_length  petal_width\n",
            "0           5.1          3.5           1.4          0.2\n",
            "1           4.9          3.0           1.4          0.2\n",
            "2           4.7          3.2           1.3          0.2\n",
            "3           4.6          3.1           1.5          0.2\n",
            "4           5.0          3.6           1.4          0.2\n",
            "\n",
            "Target:\n",
            "0    setosa\n",
            "1    setosa\n",
            "2    setosa\n",
            "3    setosa\n",
            "4    setosa\n",
            "Name: species, dtype: object\n"
          ]
        }
      ]
    },
    {
      "cell_type": "code",
      "source": [
        "# Pisahkan kolom atribut dan target\n",
        "atribut = iris_df[['sepal_length', 'sepal_width', 'petal_length', 'petal_width']]\n",
        "target = iris_df['species']\n",
        "\n",
        "# Bagi data menjadi data latih dan data uji\n",
        "X_train, X_test, y_train, y_test = train_test_split(atribut, target, test_size=0.2, random_state=42)\n",
        "\n",
        "# Inisialisasi model Decision Tree\n",
        "decision_tree = DecisionTreeClassifier(random_state=42)\n",
        "\n",
        "# Latih model dengan data latih\n",
        "decision_tree.fit(X_train, y_train)\n",
        "\n",
        "# Prediksi kelas pada data uji\n",
        "y_pred = decision_tree.predict(X_test)\n",
        "\n",
        "# Evaluasi akurasi model\n",
        "accuracy = accuracy_score(y_test, y_pred)\n",
        "print(f\"Akurasi Decision Tree:, {accuracy * 100:.2f}%\")"
      ],
      "metadata": {
        "colab": {
          "base_uri": "https://localhost:8080/"
        },
        "id": "tL0nOidQH5VW",
        "outputId": "ed85554e-450f-4eae-fa48-b6eff12d0208"
      },
      "execution_count": 8,
      "outputs": [
        {
          "output_type": "stream",
          "name": "stdout",
          "text": [
            "Akurasi Decision Tree:, 100.00%\n"
          ]
        }
      ]
    },
    {
      "cell_type": "code",
      "source": [
        "# Export struktur Decision Tree ke dalam file DOT\n",
        "dot_data = export_graphviz(\n",
        "    decision_tree,\n",
        "    out_file=None,\n",
        "    feature_names=atribut.columns,\n",
        "    class_names=target.unique(),\n",
        "    filled=True,\n",
        "    rounded=True,\n",
        "    special_characters=True\n",
        ")\n",
        "\n",
        "# Buat objek Graphviz\n",
        "graph = graphviz.Source(dot_data)\n",
        "\n",
        "# Tampilkan grafik Decision Tree\n",
        "graph.render(\"iris_decision_tree\")  # Grafik akan disimpan sebagai file \"iris_decision_tree.pdf\"\n",
        "graph.view(\"iris_decision_tree\")    # Menampilkan grafik dalam viewer\n",
        "\n",
        "# Untuk menampilkan grafik dalam Colab, Anda dapat menggunakan perintah berikut:\n",
        "# graph"
      ],
      "metadata": {
        "colab": {
          "base_uri": "https://localhost:8080/",
          "height": 35
        },
        "id": "QzPMqwMYJeRA",
        "outputId": "9dd83f9a-66f0-4b0f-d785-099fa2bc0da7"
      },
      "execution_count": 11,
      "outputs": [
        {
          "output_type": "execute_result",
          "data": {
            "text/plain": [
              "'iris_decision_tree.pdf'"
            ],
            "application/vnd.google.colaboratory.intrinsic+json": {
              "type": "string"
            }
          },
          "metadata": {},
          "execution_count": 11
        }
      ]
    },
    {
      "cell_type": "markdown",
      "source": [
        "Belajar penggunaan random state"
      ],
      "metadata": {
        "id": "HxrFOn6yLTIh"
      }
    },
    {
      "cell_type": "code",
      "source": [
        "from sklearn.model_selection import train_test_split\n",
        "\n",
        "# Tanpa random_state\n",
        "X_train1, X_test1, y_train1, y_test1 = train_test_split(atribut, target, test_size=0.2)\n",
        "print(\"Tanpa random_state:\")\n",
        "print(\"X_train1 shape:\", X_train1.shape)\n",
        "print(\"X_test1 shape:\", X_test1.shape)\n",
        "\n",
        "# Dengan random_state\n",
        "X_train2, X_test2, y_train2, y_test2 = train_test_split(atribut, target, test_size=0.2, random_state=42)\n",
        "print(\"\\nDengan random_state:\")\n",
        "print(\"X_train2 shape:\", X_train2.shape)\n",
        "print(\"X_test2 shape:\", X_test2.shape)\n"
      ],
      "metadata": {
        "colab": {
          "base_uri": "https://localhost:8080/"
        },
        "id": "dzlTlMFiKciI",
        "outputId": "43dde547-790a-4cac-c405-ff3fe4c5ab7a"
      },
      "execution_count": 12,
      "outputs": [
        {
          "output_type": "stream",
          "name": "stdout",
          "text": [
            "Tanpa random_state:\n",
            "X_train1 shape: (120, 4)\n",
            "X_test1 shape: (30, 4)\n",
            "\n",
            "Dengan random_state:\n",
            "X_train2 shape: (120, 4)\n",
            "X_test2 shape: (30, 4)\n"
          ]
        }
      ]
    },
    {
      "cell_type": "code",
      "source": [
        "from sklearn.model_selection import train_test_split\n",
        "\n",
        "X_data = range(10)\n",
        "y_data = range(10)\n",
        "\n",
        "print(\"random_state ditentukan\")\n",
        "for i in range(3):\n",
        "    X_train, X_test, y_train, y_test = train_test_split(X_data, y_data, test_size = 0.3, random_state = 42)\n",
        "    print(y_test)\n",
        "\n",
        "\n",
        "print(\"random_state tidak ditentukan\")\n",
        "for i in range(3):\n",
        "    X_train, X_test, y_train, y_test = train_test_split(X_data, y_data, test_size = 0.3, random_state = None)\n",
        "    print(y_test)"
      ],
      "metadata": {
        "colab": {
          "base_uri": "https://localhost:8080/"
        },
        "id": "HXw9sDxCLajM",
        "outputId": "41147883-4db6-47fc-f0b7-96e52abcc1fe"
      },
      "execution_count": 14,
      "outputs": [
        {
          "output_type": "stream",
          "name": "stdout",
          "text": [
            "random_state ditentukan\n",
            "[8, 1, 5]\n",
            "[8, 1, 5]\n",
            "[8, 1, 5]\n",
            "random_state tidak ditentukan\n",
            "[6, 8, 0]\n",
            "[9, 5, 1]\n",
            "[4, 2, 5]\n"
          ]
        }
      ]
    }
  ]
}